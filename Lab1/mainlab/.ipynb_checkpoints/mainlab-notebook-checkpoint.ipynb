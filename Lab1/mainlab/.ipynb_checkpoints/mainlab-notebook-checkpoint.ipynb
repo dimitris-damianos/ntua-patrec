{
 "cells": [
  {
   "cell_type": "code",
   "execution_count": 2,
   "id": "7d0994d2",
   "metadata": {},
   "outputs": [],
   "source": [
    "import numpy as np\n",
    "import matplotlib.pyplot as plt\n",
    "\n",
    "import torch\n",
    "from torch import nn\n",
    "\n",
    "import subprocess\n",
    "\n"
   ]
  },
  {
   "cell_type": "code",
   "execution_count": 21,
   "id": "5df50be4",
   "metadata": {},
   "outputs": [
    {
     "name": "stdout",
     "output_type": "stream",
     "text": [
      "Total wavs: 3000. Fs = 8000 Hz\n"
     ]
    },
    {
     "name": "stderr",
     "output_type": "stream",
     "text": [
      "Extracting mfcc features...: 100%|██████████| 3000/3000 [00:19<00:00, 157.07it/s]"
     ]
    },
    {
     "name": "stdout",
     "output_type": "stream",
     "text": [
      "Feature extraction completed with 6 mfccs per frame\n",
      "Splitting in train test split using the default dataset split\n",
      "using all data to calculate normalization statistics\n",
      "Normalization will be performed using mean: [-517.82970101   62.38579548   18.8177718     9.58994408  -19.21332918\n",
      "  -10.90544171]\n",
      "Normalization will be performed using std: [152.29960089  51.98705829  36.71929112  29.63888662  24.80403286\n",
      "  23.39483935]\n",
      "\n",
      "Size of first sample (29, 6)\n",
      "\n",
      "Test size 300\n",
      "Dev size 540\n",
      "Train size 2160\n"
     ]
    },
    {
     "name": "stderr",
     "output_type": "stream",
     "text": [
      "\n"
     ]
    },
    {
     "data": {
      "text/plain": [
       "0"
      ]
     },
     "execution_count": 21,
     "metadata": {},
     "output_type": "execute_result"
    }
   ],
   "source": [
    "# STEP 9\n",
    "\n",
    "subprocess.call('python3 ./help/parser.py ./recordings', shell=True)\n"
   ]
  }
 ],
 "metadata": {
  "kernelspec": {
   "display_name": "Python 3 (ipykernel)",
   "language": "python",
   "name": "python3"
  },
  "language_info": {
   "codemirror_mode": {
    "name": "ipython",
    "version": 3
   },
   "file_extension": ".py",
   "mimetype": "text/x-python",
   "name": "python",
   "nbconvert_exporter": "python",
   "pygments_lexer": "ipython3",
   "version": "3.8.10"
  }
 },
 "nbformat": 4,
 "nbformat_minor": 5
}
