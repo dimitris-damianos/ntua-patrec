{
 "cells": [
  {
   "cell_type": "code",
   "execution_count": 181,
   "id": "cb8b788e",
   "metadata": {},
   "outputs": [],
   "source": [
    "### STEP 2 ###\n",
    "from glob import glob\n",
    "import os\n",
    "import librosa\n",
    "from tqdm import tqdm\n",
    "import numpy as np\n",
    "import matplotlib.pyplot as plt\n",
    "from sklearn.decomposition import PCA\n",
    "\n",
    "loc = './pr_lab1_2020-21_data/digits'\n",
    "\n",
    "'''\n",
    "parse_free_digits(loc)'''\n",
    "\n",
    "def data_parser(directory):\n",
    "    files = glob(os.path.join(directory, \"*.wav\"))\n",
    "    fnames = [f.split('/')[3].split('.')[0] for f in files]\n",
    "    ## extract ids from filename\n",
    "    ids = [int(f[-2]+f[-1]) if f[-2].isdigit() else int(f[-1]) for f in fnames]\n",
    "    ## extract float arrays of signals\n",
    "    waves = [librosa.load(fpath,sr=None)[0] for fpath in files]\n",
    "    ## extract digits from filenames\n",
    "    digits = []\n",
    "    for i in range(len(fnames)):\n",
    "        if str(ids[i]) in fnames[i]:\n",
    "            fnames[i] = fnames[i].replace(str(ids[i]),'')\n",
    "    return waves, ids, fnames\n"
   ]
  },
  {
   "cell_type": "code",
   "execution_count": 164,
   "metadata": {},
   "outputs": [],
   "source": [
    "### STEP 3 ###\n",
    "\n",
    "waves,_,_ = data_parser(loc)\n",
    "\n",
    "def extract_features(waves,num_mfcc=13,window=25,step=10):\n",
    "    '''\n",
    "    returns list of np.arrays of shape (frames of signal x num_mfcc)\n",
    "    '''\n",
    "    w = window*16000//1000 ## length of window in Hz\n",
    "    s = step*16000//1000  ## length of step in Hz\n",
    "    mfccs = [\n",
    "        librosa.feature.mfcc(y=wav,n_mfcc=num_mfcc,n_fft=w,hop_length=w-s).T ## by default returns (MFCC x Waves) shape\n",
    "        for wav in tqdm(waves, desc='Extracting MFCC features...')\n",
    "    ]\n",
    "    deltas = [librosa.feature.delta(mfcc) for mfcc in mfccs]\n",
    "    ddeltas = [librosa.feature.delta(d) for d in mfccs]\n",
    "    \n",
    "    #print(mfccs[0].shape,deltas[0].shape,ddeltas[0].shape)\n",
    "    \n",
    "    print(f'Feature extraction completed: {num_mfcc} MFCC per frame.')\n",
    "    return mfccs, deltas, ddeltas\n",
    "\n",
    "#extract_features(waves)\n"
   ]
  },
  {
   "cell_type": "code",
   "execution_count": 152,
   "metadata": {},
   "outputs": [
    {
     "name": "stderr",
     "output_type": "stream",
     "text": [
      "Extracting MFCC features...:   0%|          | 0/133 [00:00<?, ?it/s]"
     ]
    },
    {
     "name": "stderr",
     "output_type": "stream",
     "text": [
      "Extracting MFCC features...: 100%|██████████| 133/133 [00:00<00:00, 141.00it/s]\n"
     ]
    },
    {
     "name": "stdout",
     "output_type": "stream",
     "text": [
      "Feature extraction completed: 13 MFCC per frame.\n"
     ]
    }
   ],
   "source": [
    "### STEP 4 ### \n",
    "''''\n",
    "MFCS not yet extracted.\n",
    "'''\n",
    "loc = './pr_lab1_2020-21_data/digits'\n",
    "waves,ids,digits = data_parser(loc)\n",
    "mfccs, deltas, ddeltas = extract_features(waves)\n",
    "\n",
    "def find_indices(list,item):\n",
    "    indices = []\n",
    "    for idx, value in enumerate(list):\n",
    "        if value == item:\n",
    "            indices.append(idx)\n",
    "    return indices\n",
    "\n",
    "def find_mfccs(mfccs,ids,n1=1,n2=2):\n",
    "    ## find indices of speakers\n",
    "    n1_indices = find_indices(ids,n1)\n",
    "    n2_indices = find_indices(ids,n2)\n",
    "    \n",
    "    n1_mffcs = []\n",
    "    for i in n1_indices:\n",
    "        n1_mffcs.append(mfccs[i][0])\n",
    "        n1_mffcs.append(mfccs[i][1])\n",
    "        \n",
    "    n2_mffcs = []\n",
    "    for i in n2_indices:\n",
    "        n2_mffcs.append(mfccs[i][0])\n",
    "        n2_mffcs.append(mfccs[i][1])\n",
    "        \n",
    "    plt.hist(np.array(n1_mffcs))\n",
    "    plt.show()\n",
    "    plt.hist(np.array(n2_mffcs))\n",
    "    plt.show()\n",
    "    \n",
    "    return n1_mffcs, n2_mffcs\n",
    "    \n",
    "    \n",
    "def extract_mfsc(waves,ids,n1,n2):\n",
    "    n1_indices = find_indices(ids,n1)\n",
    "    n2_indices = find_indices(ids,n2)\n",
    "    \n",
    "\n",
    "#find_mfccs(mfccs,ids,n1=1,n2=2)"
   ]
  },
  {
   "cell_type": "code",
   "execution_count": 169,
   "metadata": {},
   "outputs": [
    {
     "name": "stderr",
     "output_type": "stream",
     "text": [
      "Extracting MFCC features...:   0%|          | 0/133 [00:00<?, ?it/s]"
     ]
    },
    {
     "name": "stderr",
     "output_type": "stream",
     "text": [
      "/home/dimitris/.local/lib/python3.10/site-packages/librosa/feature/spectral.py:2143: UserWarning: Empty filters detected in mel frequency basis. Some channels will produce empty responses. Try increasing your sampling rate (and fmax) or reducing n_mels.\n",
      "  mel_basis = filters.mel(sr=sr, n_fft=n_fft, **kwargs)\n",
      "Extracting MFCC features...: 100%|██████████| 133/133 [00:00<00:00, 226.98it/s]\n"
     ]
    },
    {
     "name": "stdout",
     "output_type": "stream",
     "text": [
      "Feature extraction completed: 13 MFCC per frame.\n"
     ]
    },
    {
     "data": {
      "text/plain": [
       "(53, 39)"
      ]
     },
     "execution_count": 169,
     "metadata": {},
     "output_type": "execute_result"
    }
   ],
   "source": [
    "### STEP 5 ###\n",
    "loc = './pr_lab1_2020-21_data/digits'\n",
    "waves,ids,digits = data_parser(loc)\n",
    "mfccs, deltas, ddeltas = extract_features(waves)\n",
    "\n",
    "def concat_features(feat1,feat2,feat3):\n",
    "    res = []\n",
    "    for m,d,dd in zip(feat1,feat2,feat3):\n",
    "        res.append(np.concatenate((m,d,dd),axis=1))\n",
    "    return res\n",
    "\n",
    "res = concat_features(mfccs,deltas,ddeltas)\n",
    "res[0].shape"
   ]
  },
  {
   "cell_type": "code",
   "execution_count": 180,
   "metadata": {},
   "outputs": [
    {
     "name": "stdout",
     "output_type": "stream",
     "text": [
      "four\n",
      "nine\n",
      "seven\n",
      "one\n",
      "eight\n",
      "six\n",
      "five\n",
      "three\n",
      "two\n"
     ]
    },
    {
     "data": {
      "image/png": "[encoded data removed]",
      "text/plain": [
       "<Figure size 640x480 with 1 Axes>"
      ]
     },
     "metadata": {},
     "output_type": "display_data"
    }
   ],
   "source": [
    "def mean_var_feat(feat,digits):\n",
    "    '''\n",
    "    MY IMPLEMENTATION (this might change)\n",
    "    For every wave of each digit, find a seperate mean vector: each value is the mean of the selected feature over all time steps\n",
    "    And a separate variance vector (variance of selected feature over all time steps)\n",
    "    Lastly, concatenate those 2 vector into one.\n",
    "    ''' \n",
    "    dig2vec = {} ## for each digit it contains all produced feature vectors in a list-> useful in scatter plot\n",
    "    for idx,dig in enumerate(digits):\n",
    "        mean = np.mean(feat[idx],axis=0)\n",
    "        var = np.var(feat[idx],axis=0)\n",
    "        vec = np.concatenate((mean,var),axis=0)\n",
    "        if dig not in dig2vec.keys():\n",
    "            dig2vec[dig] = [vec]\n",
    "        else:\n",
    "            dig2vec[dig].append(vec)\n",
    "    \n",
    "    return dig2vec\n",
    "\n",
    "dict = mean_var_feat(mfccs,digits=digits)\n",
    "\n",
    "def scatter(dict):\n",
    "    f = plt.figure\n",
    "    for digit in dict.keys():\n",
    "        print(digit)\n",
    "        x,y = [], []\n",
    "        for vec in dict[digit]:\n",
    "            x.append(vec[0])\n",
    "            y.append(vec[1])\n",
    "        plt.scatter(x,y)\n",
    "    plt.legend(dict.keys())\n",
    "    plt.show()\n",
    "        \n",
    "scatter(dict)       "
   ]
  },
  {
   "cell_type": "code",
   "execution_count": 188,
   "metadata": {},
   "outputs": [
    {
     "name": "stderr",
     "output_type": "stream",
     "text": [
      "/home/dimitris/.local/lib/python3.10/site-packages/sklearn/decomposition/_pca.py:543: RuntimeWarning: invalid value encountered in divide\n",
      "  explained_variance_ = (S**2) / (n_samples - 1)\n"
     ]
    },
    {
     "ename": "ValueError",
     "evalue": "0 is not in list",
     "output_type": "error",
     "traceback": [
      "\u001b[0;31m---------------------------------------------------------------------------\u001b[0m",
      "\u001b[0;31mValueError\u001b[0m                                Traceback (most recent call last)",
      "\u001b[1;32m/home/dimitris/Desktop/ece/ntua-patrec/Lab1/prelab/prelab-notebook.ipynb Cell 6\u001b[0m line \u001b[0;36m3\n\u001b[1;32m     <a href='vscode-notebook-cell:/home/dimitris/Desktop/ece/ntua-patrec/Lab1/prelab/prelab-notebook.ipynb#X16sZmlsZQ%3D%3D?line=26'>27</a>\u001b[0m                 \u001b[39mdict\u001b[39m[digit]\u001b[39m.\u001b[39mappend(new_vec)\n\u001b[1;32m     <a href='vscode-notebook-cell:/home/dimitris/Desktop/ece/ntua-patrec/Lab1/prelab/prelab-notebook.ipynb#X16sZmlsZQ%3D%3D?line=28'>29</a>\u001b[0m     \u001b[39mreturn\u001b[39;00m new_dict\n\u001b[0;32m---> <a href='vscode-notebook-cell:/home/dimitris/Desktop/ece/ntua-patrec/Lab1/prelab/prelab-notebook.ipynb#X16sZmlsZQ%3D%3D?line=30'>31</a>\u001b[0m new_dict \u001b[39m=\u001b[39m pca(\u001b[39mdict\u001b[39;49m\u001b[39m=\u001b[39;49m\u001b[39mdict\u001b[39;49m)\n\u001b[1;32m     <a href='vscode-notebook-cell:/home/dimitris/Desktop/ece/ntua-patrec/Lab1/prelab/prelab-notebook.ipynb#X16sZmlsZQ%3D%3D?line=31'>32</a>\u001b[0m scatter(new_dict)  \n",
      "\u001b[1;32m/home/dimitris/Desktop/ece/ntua-patrec/Lab1/prelab/prelab-notebook.ipynb Cell 6\u001b[0m line \u001b[0;36m1\n\u001b[1;32m     <a href='vscode-notebook-cell:/home/dimitris/Desktop/ece/ntua-patrec/Lab1/prelab/prelab-notebook.ipynb#X16sZmlsZQ%3D%3D?line=16'>17</a>\u001b[0m         max2 \u001b[39m=\u001b[39m i\n\u001b[1;32m     <a href='vscode-notebook-cell:/home/dimitris/Desktop/ece/ntua-patrec/Lab1/prelab/prelab-notebook.ipynb#X16sZmlsZQ%3D%3D?line=17'>18</a>\u001b[0m idx1 \u001b[39m=\u001b[39m variances\u001b[39m.\u001b[39mindex(max1)\n\u001b[0;32m---> <a href='vscode-notebook-cell:/home/dimitris/Desktop/ece/ntua-patrec/Lab1/prelab/prelab-notebook.ipynb#X16sZmlsZQ%3D%3D?line=18'>19</a>\u001b[0m idx2 \u001b[39m=\u001b[39m variances\u001b[39m.\u001b[39;49mindex(max2)\n\u001b[1;32m     <a href='vscode-notebook-cell:/home/dimitris/Desktop/ece/ntua-patrec/Lab1/prelab/prelab-notebook.ipynb#X16sZmlsZQ%3D%3D?line=20'>21</a>\u001b[0m \u001b[39m## extract idx1-2 items from original vectors\u001b[39;00m\n\u001b[1;32m     <a href='vscode-notebook-cell:/home/dimitris/Desktop/ece/ntua-patrec/Lab1/prelab/prelab-notebook.ipynb#X16sZmlsZQ%3D%3D?line=21'>22</a>\u001b[0m \u001b[39mfor\u001b[39;00m vec \u001b[39min\u001b[39;00m \u001b[39mdict\u001b[39m[digit]:\n",
      "\u001b[0;31mValueError\u001b[0m: 0 is not in list"
     ]
    }
   ],
   "source": [
    "### STEP 6 ###\n",
    "def pca(dict):\n",
    "    '''\n",
    "    Input: dictionary containing all feature vectors per digit\n",
    "    Output: dictionary containing all feature vectors per digit with dimension (2,1)\n",
    "    '''\n",
    "    pca = PCA()\n",
    "    new_dict = {}\n",
    "    for digit in dict.keys():\n",
    "        mat = np.array(dict[digit])\n",
    "        pca.fit(mat)\n",
    "        variances = list(pca.explained_variance_ratio_)## get the variance of each index from PCA\n",
    "        max2 = 0 ## find the 2 indexes with the greatest variance\n",
    "        max1 = max(variances)\n",
    "        for i in variances:\n",
    "            if i>= 0 and i>=max2 and i != max1:\n",
    "                max2 = i\n",
    "            if  >= max2 and i != max1:\n",
    "                max2 = i\n",
    "        idx1 = variances.index(max1)\n",
    "        idx2 = variances.index(max2)\n",
    "        \n",
    "        ## extract idx1-2 items from original vectors\n",
    "        for vec in dict[digit]:\n",
    "            new_vec = [vec[idx1],vec[idx2]]\n",
    "            if digit not in new_dict.keys():\n",
    "                dict[digit] = [new_vec]\n",
    "            else:\n",
    "                dict[digit].append(new_vec)\n",
    "                \n",
    "    return new_dict\n",
    "\n",
    "new_dict = pca(dict=dict)\n",
    "scatter(new_dict)  "
   ]
  }
 ],
 "metadata": {
  "kernelspec": {
   "display_name": "Python 3 (ipykernel)",
   "language": "python",
   "name": "python3"
  },
  "language_info": {
   "codemirror_mode": {
    "name": "ipython",
    "version": 3
   },
   "file_extension": ".py",
   "mimetype": "text/x-python",
   "name": "python",
   "nbconvert_exporter": "python",
   "pygments_lexer": "ipython3",
   "version": "3.10.12"
  }
 },
 "nbformat": 4,
 "nbformat_minor": 5
}
